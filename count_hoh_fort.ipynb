{
 "cells": [
  {
   "cell_type": "code",
   "execution_count": 55,
   "metadata": {},
   "outputs": [],
   "source": [
    "import numpy as np\n",
    "import pandas as pd\n",
    "import sys\n"
   ]
  },
  {
   "cell_type": "code",
   "execution_count": 56,
   "metadata": {},
   "outputs": [],
   "source": [
    "inputpathway = \"/Users/umeshkhaniya/Dropbox/python_script_research/mc_water/in/fort\"\n",
    "ouputpathway= \"/Users/umeshkhaniya/Dropbox/python_script_research/mc_water/out/\""
   ]
  },
  {
   "cell_type": "code",
   "execution_count": 72,
   "metadata": {},
   "outputs": [
    {
     "ename": "SyntaxError",
     "evalue": "'return' outside function (<ipython-input-72-4846a02c74f1>, line 18)",
     "output_type": "error",
     "traceback": [
      "\u001b[0;36m  File \u001b[0;32m\"<ipython-input-72-4846a02c74f1>\"\u001b[0;36m, line \u001b[0;32m18\u001b[0m\n\u001b[0;31m    return(str(num_w))\u001b[0m\n\u001b[0m    ^\u001b[0m\n\u001b[0;31mSyntaxError\u001b[0m\u001b[0;31m:\u001b[0m 'return' outside function\n"
     ]
    }
   ],
   "source": [
    "with open(inputpathway, mode='r',encoding='utf-8') as f1:\n",
    "    lines=[l.split() for l in f1.readlines()]\n",
    "    num_w=0\n",
    "    for l in lines:\n",
    "    \n",
    "        if 'HOHDM' in l[0]:\n",
    "                    resn=l[0][0:3]\n",
    "                    resid=l[0][5:10]\n",
    "                    dm_w=l[1]\n",
    "                    occ_w=1-float(dm_w)\n",
    "                    num_w=num_w+ 1\n",
    "                    outputstr=resn+resid+'  '+str(occ_w)+'\\n'\n",
    "                    print(outputstr)\n",
    "                    #print(str(num_w))\n",
    "                    out_file.write(outputstr)\n",
    "        \n",
    "     \n",
    "    return(str(num_w))  \n",
    "    \n",
    "    "
   ]
  },
  {
   "cell_type": "code",
   "execution_count": null,
   "metadata": {},
   "outputs": [],
   "source": []
  }
 ],
 "metadata": {
  "kernelspec": {
   "display_name": "Python 3",
   "language": "python",
   "name": "python3"
  },
  "language_info": {
   "codemirror_mode": {
    "name": "ipython",
    "version": 3
   },
   "file_extension": ".py",
   "mimetype": "text/x-python",
   "name": "python",
   "nbconvert_exporter": "python",
   "pygments_lexer": "ipython3",
   "version": "3.7.0"
  }
 },
 "nbformat": 4,
 "nbformat_minor": 2
}
